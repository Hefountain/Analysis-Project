{
 "cells": [
  {
   "cell_type": "code",
   "execution_count": 184,
   "metadata": {},
   "outputs": [],
   "source": [
    "#-*- coding:utf-8 -*-\n",
    "\n",
    "import pandas as pd\n",
    "import numpy as np\n",
    "import numpy\n",
    "from PIL import Image\n",
    "\n",
    "import matplotlib\n",
    "matplotlib.rcParams['figure.figsize'] = (8.0, 6.0)\n",
    "\n",
    "import matplotlib.pyplot as plt\n",
    "from matplotlib.font_manager import FontProperties\n",
    "plt.style.use(\"ggplot\") \n",
    "\n",
    "import jieba.analyse\n",
    "from wordcloud import WordCloud  # 词云包\n",
    "\n",
    "# import re\n",
    "\n",
    "import sys\n",
    "# Python2.5初始化后会删除 sys.setdefaultencoding 这个方法，需要重新载入 \n",
    "reload(sys)   \n",
    "sys.setdefaultencoding('utf-8')\n",
    "\n",
    "font_set = FontProperties(fname=r\"Songti.ttc\", size=10) \n",
    "\n",
    "df = pd.read_excel(\"playone.xlsx\", encoding=\"utf-8\")\n",
    "df.head()"
   ]
  },
  {
   "cell_type": "code",
   "execution_count": 185,
   "metadata": {},
   "outputs": [
    {
     "data": {
      "text/plain": [
       "(None, (440, 6))"
      ]
     },
     "execution_count": 185,
     "metadata": {},
     "output_type": "execute_result"
    }
   ],
   "source": [
    "df.info(),df.shape"
   ]
  },
  {
   "cell_type": "code",
   "execution_count": 186,
   "metadata": {},
   "outputs": [
    {
     "data": {
      "text/html": [
       "<div>\n",
       "<style scoped>\n",
       "    .dataframe tbody tr th:only-of-type {\n",
       "        vertical-align: middle;\n",
       "    }\n",
       "\n",
       "    .dataframe tbody tr th {\n",
       "        vertical-align: top;\n",
       "    }\n",
       "\n",
       "    .dataframe thead th {\n",
       "        text-align: right;\n",
       "    }\n",
       "</style>\n",
       "<table border=\"1\" class=\"dataframe\">\n",
       "  <thead>\n",
       "    <tr style=\"text-align: right;\">\n",
       "      <th></th>\n",
       "      <th>agree_num</th>\n",
       "    </tr>\n",
       "  </thead>\n",
       "  <tbody>\n",
       "    <tr>\n",
       "      <th>count</th>\n",
       "      <td>440.000000</td>\n",
       "    </tr>\n",
       "    <tr>\n",
       "      <th>mean</th>\n",
       "      <td>204.390909</td>\n",
       "    </tr>\n",
       "    <tr>\n",
       "      <th>std</th>\n",
       "      <td>819.652258</td>\n",
       "    </tr>\n",
       "    <tr>\n",
       "      <th>min</th>\n",
       "      <td>0.000000</td>\n",
       "    </tr>\n",
       "    <tr>\n",
       "      <th>25%</th>\n",
       "      <td>0.000000</td>\n",
       "    </tr>\n",
       "    <tr>\n",
       "      <th>50%</th>\n",
       "      <td>12.000000</td>\n",
       "    </tr>\n",
       "    <tr>\n",
       "      <th>75%</th>\n",
       "      <td>60.250000</td>\n",
       "    </tr>\n",
       "    <tr>\n",
       "      <th>max</th>\n",
       "      <td>8628.000000</td>\n",
       "    </tr>\n",
       "  </tbody>\n",
       "</table>\n",
       "</div>"
      ],
      "text/plain": [
       "         agree_num\n",
       "count   440.000000\n",
       "mean    204.390909\n",
       "std     819.652258\n",
       "min       0.000000\n",
       "25%       0.000000\n",
       "50%      12.000000\n",
       "75%      60.250000\n",
       "max    8628.000000"
      ]
     },
     "execution_count": 186,
     "metadata": {},
     "output_type": "execute_result"
    }
   ],
   "source": [
    "df.describe()"
   ]
  },
  {
   "cell_type": "code",
   "execution_count": 187,
   "metadata": {},
   "outputs": [
    {
     "data": {
      "text/html": [
       "<div>\n",
       "<style scoped>\n",
       "    .dataframe tbody tr th:only-of-type {\n",
       "        vertical-align: middle;\n",
       "    }\n",
       "\n",
       "    .dataframe tbody tr th {\n",
       "        vertical-align: top;\n",
       "    }\n",
       "\n",
       "    .dataframe thead th {\n",
       "        text-align: right;\n",
       "    }\n",
       "</style>\n",
       "<table border=\"1\" class=\"dataframe\">\n",
       "  <thead>\n",
       "    <tr style=\"text-align: right;\">\n",
       "      <th></th>\n",
       "      <th>comment</th>\n",
       "      <th>comment_time</th>\n",
       "      <th>score</th>\n",
       "      <th>agree_num</th>\n",
       "      <th>user_name</th>\n",
       "      <th>is_view</th>\n",
       "    </tr>\n",
       "  </thead>\n",
       "  <tbody>\n",
       "    <tr>\n",
       "      <th>0</th>\n",
       "      <td>斯皮尔伯格把他对电影的梦想、热心、爱与情怀，浓缩到这部片子，通过极具年代感的经典电影和角色...</td>\n",
       "      <td>2018-03-27 23:02:00</td>\n",
       "      <td>力荐</td>\n",
       "      <td>8628</td>\n",
       "      <td>影志</td>\n",
       "      <td>看过</td>\n",
       "    </tr>\n",
       "    <tr>\n",
       "      <th>1</th>\n",
       "      <td>游戏宅和影迷的春药！还原《闪灵》那场戏看到要爆炸了！值得去电影院刷十遍！\\n</td>\n",
       "      <td>2018-03-21 17:08:00</td>\n",
       "      <td>力荐</td>\n",
       "      <td>7673</td>\n",
       "      <td>翻滚吧！蛋堡</td>\n",
       "      <td>看过</td>\n",
       "    </tr>\n",
       "    <tr>\n",
       "      <th>2</th>\n",
       "      <td>请不要在彩蛋期间插播电影！（普通导演是在电影期间插播广告，二逼导演是在广告期间插播电影，文...</td>\n",
       "      <td>2018-03-28 08:35:00</td>\n",
       "      <td>力荐</td>\n",
       "      <td>5575</td>\n",
       "      <td>凌睿</td>\n",
       "      <td>看过</td>\n",
       "    </tr>\n",
       "    <tr>\n",
       "      <th>3</th>\n",
       "      <td>全场喊牛逼！没啥是斯皮尔伯格做不到的了，在一个商业片中把所有的特效情怀和爱结合得完整而彻底...</td>\n",
       "      <td>2018-03-26 23:47:00</td>\n",
       "      <td>力荐</td>\n",
       "      <td>5119</td>\n",
       "      <td>杨欢喜Metiche</td>\n",
       "      <td>看过</td>\n",
       "    </tr>\n",
       "    <tr>\n",
       "      <th>4</th>\n",
       "      <td>公民凯恩串起了闪灵、鬼娃、高达、哥斯拉、亚基拉、街霸、铁巨人、金刚、龟波气功⋯⋯，加上迪斯...</td>\n",
       "      <td>2018-03-21 19:45:00</td>\n",
       "      <td>力荐</td>\n",
       "      <td>4466</td>\n",
       "      <td>风间隼</td>\n",
       "      <td>看过</td>\n",
       "    </tr>\n",
       "  </tbody>\n",
       "</table>\n",
       "</div>"
      ],
      "text/plain": [
       "                                             comment        comment_time  \\\n",
       "0   斯皮尔伯格把他对电影的梦想、热心、爱与情怀，浓缩到这部片子，通过极具年代感的经典电影和角色... 2018-03-27 23:02:00   \n",
       "1     游戏宅和影迷的春药！还原《闪灵》那场戏看到要爆炸了！值得去电影院刷十遍！\\n         2018-03-21 17:08:00   \n",
       "2   请不要在彩蛋期间插播电影！（普通导演是在电影期间插播广告，二逼导演是在广告期间插播电影，文... 2018-03-28 08:35:00   \n",
       "3   全场喊牛逼！没啥是斯皮尔伯格做不到的了，在一个商业片中把所有的特效情怀和爱结合得完整而彻底... 2018-03-26 23:47:00   \n",
       "4   公民凯恩串起了闪灵、鬼娃、高达、哥斯拉、亚基拉、街霸、铁巨人、金刚、龟波气功⋯⋯，加上迪斯... 2018-03-21 19:45:00   \n",
       "\n",
       "  score  agree_num   user_name is_view  \n",
       "0    力荐       8628          影志      看过  \n",
       "1    力荐       7673      翻滚吧！蛋堡      看过  \n",
       "2    力荐       5575          凌睿      看过  \n",
       "3    力荐       5119  杨欢喜Metiche      看过  \n",
       "4    力荐       4466         风间隼      看过  "
      ]
     },
     "execution_count": 187,
     "metadata": {},
     "output_type": "execute_result"
    }
   ],
   "source": [
    "# 处理缺失值\n",
    "df = df.dropna()\n",
    "df.head()"
   ]
  },
  {
   "cell_type": "code",
   "execution_count": 188,
   "metadata": {},
   "outputs": [
    {
     "data": {
      "text/plain": [
       "Text(0.5,1,u'\\u8c46\\u74e3\\u7f51\\u53cb\\u5bf9\\u7535\\u5f71\\u300a\\u5934\\u53f7\\u73a9\\u5bb6\\u300b\\u7684\\u8bc4\\u5206\\u5206\\u5e03\\u60c5\\u51b5')"
      ]
     },
     "execution_count": 188,
     "metadata": {},
     "output_type": "execute_result"
    },
    {
     "data": {
      "image/png": "[encoded data removed]",
      "text/plain": [
       "<matplotlib.figure.Figure at 0x1187fdd90>"
      ]
     },
     "metadata": {},
     "output_type": "display_data"
    }
   ],
   "source": [
    "# 五星评分分布情况，由下图可以看出，其中抛开“无评分”，《头号玩家》拿到8.9分是\n",
    "# 有道理的，大多数豆瓣网友对《头号玩家》的评分为5星，其次为4星，3星，2星，1星\n",
    "\n",
    "ax = df.groupby('score')['score'].agg(len).plot.bar()\n",
    "for label in ax.get_xticklabels():\n",
    "    label.set_fontproperties(font_set)\n",
    "    \n",
    "plt.xlabel(u'评分类别',size=12,fontproperties=font_set)\n",
    "plt.ylabel(u'数量',size=12,fontproperties=font_set)\n",
    "plt.title(u'豆瓣网友对电影《头号玩家》的评分分布情况',size=12,fontproperties=font_set)"
   ]
  },
  {
   "cell_type": "code",
   "execution_count": 189,
   "metadata": {},
   "outputs": [
    {
     "data": {
      "text/plain": [
       "无评分    200\n",
       "力荐     111\n",
       "推荐      69\n",
       "还行      36\n",
       "较差      15\n",
       "很差       8\n",
       "Name: score, dtype: int64"
      ]
     },
     "execution_count": 189,
     "metadata": {},
     "output_type": "execute_result"
    }
   ],
   "source": [
    "df['score'].value_counts() # 按照数量从大到小输出"
   ]
  },
  {
   "cell_type": "code",
   "execution_count": 190,
   "metadata": {},
   "outputs": [
    {
     "data": {
      "image/png": "[encoded data removed]",
      "text/plain": [
       "<matplotlib.figure.Figure at 0x118a6e150>"
      ]
     },
     "metadata": {},
     "output_type": "display_data"
    }
   ],
   "source": [
    "# 筛选掉“无评分”那部分数据，只有isin方法，~表示取反\n",
    "scorea = ~df['score'].isin([u'无评分'])\n",
    "a = df[scorea].groupby('score')['score'].agg(len)\n",
    "print a\n",
    "\n",
    "plt.figure(figsize=(4,6)) #调节图形大小\n",
    "labels = [u'力荐',u'很差',u'推荐',u'较差',u'还行'] \n",
    "plt.rcParams['font.sans-serif']=['SimHei'] #解决中文乱码\n",
    "colors = ['pink','yellowgreen','lightskyblue','plum','powderblue']\n",
    "explode=(0.03,0,0.05,0,0.05) #将饼图分割出来，值越大分割的间隙越大\n",
    "\n",
    "plt.pie(a, explode=explode, colors=colors, labels=labels, startangle=60,autopct='%1.1f%%')\n",
    "\n",
    "# x，y轴刻度设置一致，此时的饼图才是圆形\n",
    "plt.axis('equal')\n",
    "plt.legend()\n",
    "plt.show()"
   ]
  },
  {
   "cell_type": "code",
   "execution_count": 191,
   "metadata": {},
   "outputs": [
    {
     "data": {
      "text/plain": [
       "score\n",
       "力荐     111\n",
       "很差       8\n",
       "推荐      69\n",
       "无评分    200\n",
       "较差      15\n",
       "还行      36\n",
       "Name: score, dtype: int64"
      ]
     },
     "execution_count": 191,
     "metadata": {},
     "output_type": "execute_result"
    }
   ],
   "source": [
    "# 按照评分类别进行汇总\n",
    "score_num = df.groupby('score')['score'].agg(len)\n",
    "score_num"
   ]
  },
  {
   "cell_type": "code",
   "execution_count": 192,
   "metadata": {},
   "outputs": [
    {
     "data": {
      "text/html": [
       "<div>\n",
       "<style scoped>\n",
       "    .dataframe tbody tr th:only-of-type {\n",
       "        vertical-align: middle;\n",
       "    }\n",
       "\n",
       "    .dataframe tbody tr th {\n",
       "        vertical-align: top;\n",
       "    }\n",
       "\n",
       "    .dataframe thead th {\n",
       "        text-align: right;\n",
       "    }\n",
       "</style>\n",
       "<table border=\"1\" class=\"dataframe\">\n",
       "  <thead>\n",
       "    <tr style=\"text-align: right;\">\n",
       "      <th></th>\n",
       "      <th>score</th>\n",
       "      <th>agree_num</th>\n",
       "    </tr>\n",
       "  </thead>\n",
       "  <tbody>\n",
       "    <tr>\n",
       "      <th>0</th>\n",
       "      <td>力荐</td>\n",
       "      <td>8628</td>\n",
       "    </tr>\n",
       "    <tr>\n",
       "      <th>1</th>\n",
       "      <td>力荐</td>\n",
       "      <td>7673</td>\n",
       "    </tr>\n",
       "    <tr>\n",
       "      <th>2</th>\n",
       "      <td>力荐</td>\n",
       "      <td>5575</td>\n",
       "    </tr>\n",
       "    <tr>\n",
       "      <th>3</th>\n",
       "      <td>力荐</td>\n",
       "      <td>5119</td>\n",
       "    </tr>\n",
       "    <tr>\n",
       "      <th>4</th>\n",
       "      <td>力荐</td>\n",
       "      <td>4466</td>\n",
       "    </tr>\n",
       "    <tr>\n",
       "      <th>5</th>\n",
       "      <td>推荐</td>\n",
       "      <td>3942</td>\n",
       "    </tr>\n",
       "  </tbody>\n",
       "</table>\n",
       "</div>"
      ],
      "text/plain": [
       "  score  agree_num\n",
       "0    力荐       8628\n",
       "1    力荐       7673\n",
       "2    力荐       5575\n",
       "3    力荐       5119\n",
       "4    力荐       4466\n",
       "5    推荐       3942"
      ]
     },
     "execution_count": 192,
     "metadata": {},
     "output_type": "execute_result"
    }
   ],
   "source": [
    "df[['score','agree_num']].head(6)"
   ]
  },
  {
   "cell_type": "code",
   "execution_count": 193,
   "metadata": {},
   "outputs": [
    {
     "data": {
      "text/html": [
       "<div>\n",
       "<style scoped>\n",
       "    .dataframe tbody tr th:only-of-type {\n",
       "        vertical-align: middle;\n",
       "    }\n",
       "\n",
       "    .dataframe tbody tr th {\n",
       "        vertical-align: top;\n",
       "    }\n",
       "\n",
       "    .dataframe thead th {\n",
       "        text-align: right;\n",
       "    }\n",
       "</style>\n",
       "<table border=\"1\" class=\"dataframe\">\n",
       "  <thead>\n",
       "    <tr style=\"text-align: right;\">\n",
       "      <th></th>\n",
       "      <th>comment</th>\n",
       "      <th>agree_num</th>\n",
       "      <th>score</th>\n",
       "    </tr>\n",
       "  </thead>\n",
       "  <tbody>\n",
       "    <tr>\n",
       "      <th>0</th>\n",
       "      <td>斯皮尔伯格把他对电影的梦想、热心、爱与情怀，浓缩到这部片子，通过极具年代感的经典电影和角色...</td>\n",
       "      <td>8628</td>\n",
       "      <td>力荐</td>\n",
       "    </tr>\n",
       "    <tr>\n",
       "      <th>1</th>\n",
       "      <td>游戏宅和影迷的春药！还原《闪灵》那场戏看到要爆炸了！值得去电影院刷十遍！\\n</td>\n",
       "      <td>7673</td>\n",
       "      <td>力荐</td>\n",
       "    </tr>\n",
       "    <tr>\n",
       "      <th>2</th>\n",
       "      <td>请不要在彩蛋期间插播电影！（普通导演是在电影期间插播广告，二逼导演是在广告期间插播电影，文...</td>\n",
       "      <td>5575</td>\n",
       "      <td>力荐</td>\n",
       "    </tr>\n",
       "    <tr>\n",
       "      <th>3</th>\n",
       "      <td>全场喊牛逼！没啥是斯皮尔伯格做不到的了，在一个商业片中把所有的特效情怀和爱结合得完整而彻底...</td>\n",
       "      <td>5119</td>\n",
       "      <td>力荐</td>\n",
       "    </tr>\n",
       "    <tr>\n",
       "      <th>4</th>\n",
       "      <td>公民凯恩串起了闪灵、鬼娃、高达、哥斯拉、亚基拉、街霸、铁巨人、金刚、龟波气功⋯⋯，加上迪斯...</td>\n",
       "      <td>4466</td>\n",
       "      <td>力荐</td>\n",
       "    </tr>\n",
       "    <tr>\n",
       "      <th>7</th>\n",
       "      <td>好想在有生之年玩一场全民大战马化腾\\n</td>\n",
       "      <td>4039</td>\n",
       "      <td>力荐</td>\n",
       "    </tr>\n",
       "    <tr>\n",
       "      <th>5</th>\n",
       "      <td>9。我爱这部电影，就好像我的梦想是能进入马丁·斯科塞斯的《出租车司机》，看罗伯特德尼罗枪杀嫖...</td>\n",
       "      <td>3942</td>\n",
       "      <td>推荐</td>\n",
       "    </tr>\n",
       "    <tr>\n",
       "      <th>6</th>\n",
       "      <td>走马观花的IP大赏，剧情人物基本不通，鸡汤也撒得不知所云。适合跟塑料姐妹们一起假嗨\\n  ...</td>\n",
       "      <td>3845</td>\n",
       "      <td>还行</td>\n",
       "    </tr>\n",
       "    <tr>\n",
       "      <th>9</th>\n",
       "      <td>这片讲述了“绿洲五人组”寻找终极彩蛋之旅：第一关告诉你，有时退一步，就是海阔天空；第二关告...</td>\n",
       "      <td>3236</td>\n",
       "      <td>力荐</td>\n",
       "    </tr>\n",
       "    <tr>\n",
       "      <th>8</th>\n",
       "      <td>它是你们的情书，我的命。\\n</td>\n",
       "      <td>3196</td>\n",
       "      <td>力荐</td>\n",
       "    </tr>\n",
       "  </tbody>\n",
       "</table>\n",
       "</div>"
      ],
      "text/plain": [
       "                                             comment  agree_num score\n",
       "0   斯皮尔伯格把他对电影的梦想、热心、爱与情怀，浓缩到这部片子，通过极具年代感的经典电影和角色...       8628    力荐\n",
       "1     游戏宅和影迷的春药！还原《闪灵》那场戏看到要爆炸了！值得去电影院刷十遍！\\n               7673    力荐\n",
       "2   请不要在彩蛋期间插播电影！（普通导演是在电影期间插播广告，二逼导演是在广告期间插播电影，文...       5575    力荐\n",
       "3   全场喊牛逼！没啥是斯皮尔伯格做不到的了，在一个商业片中把所有的特效情怀和爱结合得完整而彻底...       5119    力荐\n",
       "4   公民凯恩串起了闪灵、鬼娃、高达、哥斯拉、亚基拉、街霸、铁巨人、金刚、龟波气功⋯⋯，加上迪斯...       4466    力荐\n",
       "7                        好想在有生之年玩一场全民大战马化腾\\n               4039    力荐\n",
       "5  9。我爱这部电影，就好像我的梦想是能进入马丁·斯科塞斯的《出租车司机》，看罗伯特德尼罗枪杀嫖...       3942    推荐\n",
       "6   走马观花的IP大赏，剧情人物基本不通，鸡汤也撒得不知所云。适合跟塑料姐妹们一起假嗨\\n  ...       3845    还行\n",
       "9   这片讲述了“绿洲五人组”寻找终极彩蛋之旅：第一关告诉你，有时退一步，就是海阔天空；第二关告...       3236    力荐\n",
       "8                             它是你们的情书，我的命。\\n               3196    力荐"
      ]
     },
     "execution_count": 193,
     "metadata": {},
     "output_type": "execute_result"
    }
   ],
   "source": [
    "# 认为有用的人数最多对应的影评，一般来说，评分打得高说明其对电影的评价比较用心，走心，故而\n",
    "# 网友对其点赞数最多，所以筛选出评分在5颗星，4颗星以及3颗星对应的影评即可\n",
    "\n",
    "scorea = df['score'].isin([u'力荐',u'推荐',u'还行'])  # scorea为布尔值\n",
    "\n",
    "# 只选取影评，认为有用的人数，评分3个字段，按照认为有用的人数从大到小排序，输出前15个\n",
    "df[['comment','agree_num','score']][scorea].sort_values(by='agree_num',ascending=False)[:10]"
   ]
  },
  {
   "cell_type": "code",
   "execution_count": 194,
   "metadata": {},
   "outputs": [
    {
     "data": {
      "text/html": [
       "<div>\n",
       "<style scoped>\n",
       "    .dataframe tbody tr th:only-of-type {\n",
       "        vertical-align: middle;\n",
       "    }\n",
       "\n",
       "    .dataframe tbody tr th {\n",
       "        vertical-align: top;\n",
       "    }\n",
       "\n",
       "    .dataframe thead th {\n",
       "        text-align: right;\n",
       "    }\n",
       "</style>\n",
       "<table border=\"1\" class=\"dataframe\">\n",
       "  <thead>\n",
       "    <tr style=\"text-align: right;\">\n",
       "      <th></th>\n",
       "      <th>comment</th>\n",
       "      <th>comment_time</th>\n",
       "      <th>score</th>\n",
       "      <th>agree_num</th>\n",
       "      <th>user_name</th>\n",
       "      <th>is_view</th>\n",
       "    </tr>\n",
       "  </thead>\n",
       "  <tbody>\n",
       "    <tr>\n",
       "      <th>234</th>\n",
       "      <td>17年，等死我算了</td>\n",
       "      <td>2014-12-23 15:24:00</td>\n",
       "      <td>无评分</td>\n",
       "      <td>0</td>\n",
       "      <td>AROBTTH</td>\n",
       "      <td>想看</td>\n",
       "    </tr>\n",
       "    <tr>\n",
       "      <th>392</th>\n",
       "      <td>这么多导演是几个意思\\n                \\n</td>\n",
       "      <td>2015-01-07 16:03:00</td>\n",
       "      <td>无评分</td>\n",
       "      <td>0</td>\n",
       "      <td>张迪</td>\n",
       "      <td>想看</td>\n",
       "    </tr>\n",
       "    <tr>\n",
       "      <th>311</th>\n",
       "      <td>看简介还有导演就想看了~~\\n</td>\n",
       "      <td>2015-01-20 18:28:00</td>\n",
       "      <td>无评分</td>\n",
       "      <td>0</td>\n",
       "      <td>橘安</td>\n",
       "      <td>想看</td>\n",
       "    </tr>\n",
       "    <tr>\n",
       "      <th>17</th>\n",
       "      <td>唔，华纳没弄来你们的诺神，Steven Spielberg to Direct Sci-F...</td>\n",
       "      <td>2015-03-26 05:26:00</td>\n",
       "      <td>无评分</td>\n",
       "      <td>12</td>\n",
       "      <td>大炎</td>\n",
       "      <td>想看</td>\n",
       "    </tr>\n",
       "    <tr>\n",
       "      <th>68</th>\n",
       "      <td>很朋克的感觉，想看。20160304</td>\n",
       "      <td>2016-03-04 17:23:00</td>\n",
       "      <td>无评分</td>\n",
       "      <td>0</td>\n",
       "      <td>浩浩洪流</td>\n",
       "      <td>想看</td>\n",
       "    </tr>\n",
       "    <tr>\n",
       "      <th>314</th>\n",
       "      <td>我要是剧透发这 你们会恨我吗\\n</td>\n",
       "      <td>2016-05-15 01:02:00</td>\n",
       "      <td>无评分</td>\n",
       "      <td>0</td>\n",
       "      <td>薰华</td>\n",
       "      <td>想看</td>\n",
       "    </tr>\n",
       "  </tbody>\n",
       "</table>\n",
       "</div>"
      ],
      "text/plain": [
       "                                               comment        comment_time  \\\n",
       "234                                          17年，等死我算了 2014-12-23 15:24:00   \n",
       "392     这么多导演是几个意思\\n                \\n                 2015-01-07 16:03:00   \n",
       "311                            看简介还有导演就想看了~~\\n         2015-01-20 18:28:00   \n",
       "17    唔，华纳没弄来你们的诺神，Steven Spielberg to Direct Sci-F... 2015-03-26 05:26:00   \n",
       "68                                  很朋克的感觉，想看。20160304 2016-03-04 17:23:00   \n",
       "314                           我要是剧透发这 你们会恨我吗\\n         2016-05-15 01:02:00   \n",
       "\n",
       "    score  agree_num user_name is_view  \n",
       "234   无评分          0   AROBTTH      想看  \n",
       "392   无评分          0        张迪      想看  \n",
       "311   无评分          0        橘安      想看  \n",
       "17    无评分         12        大炎      想看  \n",
       "68    无评分          0      浩浩洪流      想看  \n",
       "314   无评分          0        薰华      想看  "
      ]
     },
     "execution_count": 194,
     "metadata": {},
     "output_type": "execute_result"
    }
   ],
   "source": [
    "# 对数据表按comment_time进行升序排列，ascending参数的默认值是True，也就是升序\n",
    "df.sort_values(['comment_time'],ascending=True)[:6]"
   ]
  },
  {
   "cell_type": "code",
   "execution_count": 195,
   "metadata": {},
   "outputs": [
    {
     "data": {
      "text/html": [
       "<div>\n",
       "<style scoped>\n",
       "    .dataframe tbody tr th:only-of-type {\n",
       "        vertical-align: middle;\n",
       "    }\n",
       "\n",
       "    .dataframe tbody tr th {\n",
       "        vertical-align: top;\n",
       "    }\n",
       "\n",
       "    .dataframe thead th {\n",
       "        text-align: right;\n",
       "    }\n",
       "</style>\n",
       "<table border=\"1\" class=\"dataframe\">\n",
       "  <thead>\n",
       "    <tr style=\"text-align: right;\">\n",
       "      <th></th>\n",
       "      <th>comment</th>\n",
       "      <th>is_view</th>\n",
       "    </tr>\n",
       "  </thead>\n",
       "  <tbody>\n",
       "    <tr>\n",
       "      <th>0</th>\n",
       "      <td>斯皮尔伯格把他对电影的梦想、热心、爱与情怀，浓缩到这部片子，通过极具年代感的经典电影和角色...</td>\n",
       "      <td>看过</td>\n",
       "    </tr>\n",
       "    <tr>\n",
       "      <th>1</th>\n",
       "      <td>游戏宅和影迷的春药！还原《闪灵》那场戏看到要爆炸了！值得去电影院刷十遍！\\n</td>\n",
       "      <td>看过</td>\n",
       "    </tr>\n",
       "    <tr>\n",
       "      <th>2</th>\n",
       "      <td>请不要在彩蛋期间插播电影！（普通导演是在电影期间插播广告，二逼导演是在广告期间插播电影，文...</td>\n",
       "      <td>看过</td>\n",
       "    </tr>\n",
       "    <tr>\n",
       "      <th>3</th>\n",
       "      <td>全场喊牛逼！没啥是斯皮尔伯格做不到的了，在一个商业片中把所有的特效情怀和爱结合得完整而彻底...</td>\n",
       "      <td>看过</td>\n",
       "    </tr>\n",
       "    <tr>\n",
       "      <th>4</th>\n",
       "      <td>公民凯恩串起了闪灵、鬼娃、高达、哥斯拉、亚基拉、街霸、铁巨人、金刚、龟波气功⋯⋯，加上迪斯...</td>\n",
       "      <td>看过</td>\n",
       "    </tr>\n",
       "  </tbody>\n",
       "</table>\n",
       "</div>"
      ],
      "text/plain": [
       "                                             comment is_view\n",
       "0   斯皮尔伯格把他对电影的梦想、热心、爱与情怀，浓缩到这部片子，通过极具年代感的经典电影和角色...      看过\n",
       "1     游戏宅和影迷的春药！还原《闪灵》那场戏看到要爆炸了！值得去电影院刷十遍！\\n              看过\n",
       "2   请不要在彩蛋期间插播电影！（普通导演是在电影期间插播广告，二逼导演是在广告期间插播电影，文...      看过\n",
       "3   全场喊牛逼！没啥是斯皮尔伯格做不到的了，在一个商业片中把所有的特效情怀和爱结合得完整而彻底...      看过\n",
       "4   公民凯恩串起了闪灵、鬼娃、高达、哥斯拉、亚基拉、街霸、铁巨人、金刚、龟波气功⋯⋯，加上迪斯...      看过"
      ]
     },
     "execution_count": 195,
     "metadata": {},
     "output_type": "execute_result"
    }
   ],
   "source": [
    "# 筛选出is_view为“看过”的数据\n",
    "df[['comment','is_view']][df['is_view']==u'看过'].head()\n",
    "\n",
    "# 或者 ： df.loc[df['is_view']==u'看过',['comment','is_view']].head()"
   ]
  },
  {
   "cell_type": "code",
   "execution_count": 196,
   "metadata": {},
   "outputs": [],
   "source": [
    "# 评分时间分布情况\n"
   ]
  },
  {
   "cell_type": "code",
   "execution_count": 197,
   "metadata": {},
   "outputs": [
    {
     "data": {
      "image/png": "[encoded data removed]",
      "text/plain": [
       "<matplotlib.figure.Figure at 0x11a3e37d0>"
      ]
     },
     "metadata": {},
     "output_type": "display_data"
    }
   ],
   "source": [
    "# 总体评分词云\n",
    "\n",
    "# com = np.array(df['comment'])\n",
    "comment_arr = []\n",
    "for item in df['comment']:\n",
    "    comment_arr.append(item)\n",
    "\n",
    "comments = ''\n",
    "for k in range(len(comment_arr)):\n",
    "    # 将comment_arr[k]字符串化，并去除两边的空格以及换行符\n",
    "    comments = comments + str(comment_arr[k]).strip().replace(\"\\n\", \"\")\n",
    "\n",
    "# 使用正则表达式去除标点符号                  \n",
    "# pattern = re.compile(u'[\\u4e00-\\u9fa5]+')\n",
    "# filterdata = re.findall(pattern, comments)\n",
    "# comments = ''.join(filterdata)\n",
    "\n",
    "# comment = re.sub(\"[\\s+\\.\\!\\/_,$%^*(+\\\"\\‘)]+|[+——()?【】《》<>,“”！，...。？、~@#￥%……&*（）]+\".decode(\"utf8\"), \"\",comments)\n",
    "\n",
    "# 使用结巴分词进行中文分词\n",
    "seg = jieba.lcut(comments)\n",
    "words = pd.DataFrame({'segment': seg})\n",
    "\n",
    "# 去掉停用词\n",
    "stopwords = pd.read_csv(\"stopwords.txt\", index_col=False, quoting=3, sep=\"\\t\", names=['stopword'], encoding='utf-8')\n",
    "words = words[~words.segment.isin(stopwords.stopword)]\n",
    "\n",
    "# 统计词频\n",
    "word_stat = words.groupby(by=['segment'])['segment'].agg({\"计数\":np.size})\n",
    "word_stat = word_stat.reset_index().sort_values(by=[\"计数\"], ascending=False)\n",
    "\n",
    "# 用词云进行显示\n",
    "back_png = numpy.array(Image.open(\"back.jpg\"))\n",
    "wordcloud = WordCloud(font_path=\"simhei.ttf\",mask=back_png, background_color=\"white\", \n",
    "                      max_font_size=85)\n",
    "word_frequence = {x[0]: x[1] for x in word_stat.head(1000).values}\n",
    "wordcloud = wordcloud.fit_words(word_frequence)\n",
    "plt.imshow(wordcloud)\n",
    "plt.show()"
   ]
  },
  {
   "cell_type": "code",
   "execution_count": 198,
   "metadata": {},
   "outputs": [
    {
     "data": {
      "text/html": [
       "<div>\n",
       "<style scoped>\n",
       "    .dataframe tbody tr th:only-of-type {\n",
       "        vertical-align: middle;\n",
       "    }\n",
       "\n",
       "    .dataframe tbody tr th {\n",
       "        vertical-align: top;\n",
       "    }\n",
       "\n",
       "    .dataframe thead th {\n",
       "        text-align: right;\n",
       "    }\n",
       "</style>\n",
       "<table border=\"1\" class=\"dataframe\">\n",
       "  <thead>\n",
       "    <tr style=\"text-align: right;\">\n",
       "      <th></th>\n",
       "      <th>comment</th>\n",
       "      <th>score</th>\n",
       "    </tr>\n",
       "  </thead>\n",
       "  <tbody>\n",
       "    <tr>\n",
       "      <th>0</th>\n",
       "      <td>斯皮尔伯格把他对电影的梦想、热心、爱与情怀，浓缩到这部片子，通过极具年代感的经典电影和角色...</td>\n",
       "      <td>力荐</td>\n",
       "    </tr>\n",
       "    <tr>\n",
       "      <th>1</th>\n",
       "      <td>游戏宅和影迷的春药！还原《闪灵》那场戏看到要爆炸了！值得去电影院刷十遍！\\n</td>\n",
       "      <td>力荐</td>\n",
       "    </tr>\n",
       "    <tr>\n",
       "      <th>2</th>\n",
       "      <td>请不要在彩蛋期间插播电影！（普通导演是在电影期间插播广告，二逼导演是在广告期间插播电影，文...</td>\n",
       "      <td>力荐</td>\n",
       "    </tr>\n",
       "    <tr>\n",
       "      <th>3</th>\n",
       "      <td>全场喊牛逼！没啥是斯皮尔伯格做不到的了，在一个商业片中把所有的特效情怀和爱结合得完整而彻底...</td>\n",
       "      <td>力荐</td>\n",
       "    </tr>\n",
       "    <tr>\n",
       "      <th>4</th>\n",
       "      <td>公民凯恩串起了闪灵、鬼娃、高达、哥斯拉、亚基拉、街霸、铁巨人、金刚、龟波气功⋯⋯，加上迪斯...</td>\n",
       "      <td>力荐</td>\n",
       "    </tr>\n",
       "  </tbody>\n",
       "</table>\n",
       "</div>"
      ],
      "text/plain": [
       "                                             comment score\n",
       "0   斯皮尔伯格把他对电影的梦想、热心、爱与情怀，浓缩到这部片子，通过极具年代感的经典电影和角色...    力荐\n",
       "1     游戏宅和影迷的春药！还原《闪灵》那场戏看到要爆炸了！值得去电影院刷十遍！\\n            力荐\n",
       "2   请不要在彩蛋期间插播电影！（普通导演是在电影期间插播广告，二逼导演是在广告期间插播电影，文...    力荐\n",
       "3   全场喊牛逼！没啥是斯皮尔伯格做不到的了，在一个商业片中把所有的特效情怀和爱结合得完整而彻底...    力荐\n",
       "4   公民凯恩串起了闪灵、鬼娃、高达、哥斯拉、亚基拉、街霸、铁巨人、金刚、龟波气功⋯⋯，加上迪斯...    力荐"
      ]
     },
     "execution_count": 198,
     "metadata": {},
     "output_type": "execute_result"
    }
   ],
   "source": [
    "# 评分相对不错的词云（包括力荐，推荐，还行）\n",
    "score_good = df['score'].isin([u'力荐',u'推荐',u'还行'])\n",
    "df[['comment','score']][score_good].head()"
   ]
  },
  {
   "cell_type": "code",
   "execution_count": 199,
   "metadata": {},
   "outputs": [
    {
     "data": {
      "text/html": [
       "<div>\n",
       "<style scoped>\n",
       "    .dataframe tbody tr th:only-of-type {\n",
       "        vertical-align: middle;\n",
       "    }\n",
       "\n",
       "    .dataframe tbody tr th {\n",
       "        vertical-align: top;\n",
       "    }\n",
       "\n",
       "    .dataframe thead th {\n",
       "        text-align: right;\n",
       "    }\n",
       "</style>\n",
       "<table border=\"1\" class=\"dataframe\">\n",
       "  <thead>\n",
       "    <tr style=\"text-align: right;\">\n",
       "      <th></th>\n",
       "      <th>comment</th>\n",
       "      <th>score</th>\n",
       "    </tr>\n",
       "  </thead>\n",
       "  <tbody>\n",
       "    <tr>\n",
       "      <th>10</th>\n",
       "      <td>好莱坞把圈钱手段做到了极致，情怀，英雄，动漫，怀旧，复古只要能圈钱，什么都行，这部片子，就...</td>\n",
       "      <td>很差</td>\n",
       "    </tr>\n",
       "    <tr>\n",
       "      <th>43</th>\n",
       "      <td>梗的设置就会给普通观众设置很大的门槛。这个电影最大的乐趣是找梗这也是影迷的嗨点。但是除了梗...</td>\n",
       "      <td>较差</td>\n",
       "    </tr>\n",
       "    <tr>\n",
       "      <th>46</th>\n",
       "      <td>内部票，比公映提前两天看到。整个就觉得很幼稚无聊，大概一些nerds会很喜欢吧。电影结束响...</td>\n",
       "      <td>较差</td>\n",
       "    </tr>\n",
       "    <tr>\n",
       "      <th>48</th>\n",
       "      <td>我还是对斯皮尔伯格的童心不感冒，看到鸡汤结局就觉得fine，ok你说的都对。而我大概也不算...</td>\n",
       "      <td>较差</td>\n",
       "    </tr>\n",
       "    <tr>\n",
       "      <th>52</th>\n",
       "      <td>言过其实，华而不实。\\n</td>\n",
       "      <td>很差</td>\n",
       "    </tr>\n",
       "  </tbody>\n",
       "</table>\n",
       "</div>"
      ],
      "text/plain": [
       "                                              comment score\n",
       "10   好莱坞把圈钱手段做到了极致，情怀，英雄，动漫，怀旧，复古只要能圈钱，什么都行，这部片子，就...    很差\n",
       "43   梗的设置就会给普通观众设置很大的门槛。这个电影最大的乐趣是找梗这也是影迷的嗨点。但是除了梗...    较差\n",
       "46   内部票，比公映提前两天看到。整个就觉得很幼稚无聊，大概一些nerds会很喜欢吧。电影结束响...    较差\n",
       "48   我还是对斯皮尔伯格的童心不感冒，看到鸡汤结局就觉得fine，ok你说的都对。而我大概也不算...    较差\n",
       "52                               言过其实，华而不实。\\n            很差"
      ]
     },
     "execution_count": 199,
     "metadata": {},
     "output_type": "execute_result"
    }
   ],
   "source": [
    "# 评分相对较差的词云（包括较差，很差）\n",
    "score_bad = df['score'].isin([u'较差',u'很差'])\n",
    "df[['comment','score']][score_bad].head()"
   ]
  }
 ],
 "metadata": {
  "kernelspec": {
   "display_name": "Python 2",
   "language": "python",
   "name": "python2"
  },
  "language_info": {
   "codemirror_mode": {
    "name": "ipython",
    "version": 2
   },
   "file_extension": ".py",
   "mimetype": "text/x-python",
   "name": "python",
   "nbconvert_exporter": "python",
   "pygments_lexer": "ipython2",
   "version": "2.7.10"
  }
 },
 "nbformat": 4,
 "nbformat_minor": 2
}
